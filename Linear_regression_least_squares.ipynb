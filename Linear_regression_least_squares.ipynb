{
 "cells": [
  {
   "cell_type": "markdown",
   "metadata": {},
   "source": [
    "# Linear Regression"
   ]
  },
  {
   "cell_type": "markdown",
   "metadata": {},
   "source": [
    "Linear regression is a statiscal model, which uses a linear approach to find the correlation between two variables, an explanatory varaible and a dependent variable.\n",
    "\n",
    "The linear regression model here takes on a common approach, using the least-squares method. Least-squares aims to find the line of best fit, by minimising the sum of the residual, the vertical distance between the data points and the line. The term squared is giving as the deviations are squared in order to prevent negative values cancelling out positive values."
   ]
  },
  {
   "cell_type": "code",
   "execution_count": 1,
   "metadata": {},
   "outputs": [],
   "source": [
    "'''\n",
    "Linear Regression model\n",
    "\n",
    "Model built using least-squares method\n",
    "\n",
    "y = intercept + slope * x\n",
    "\n",
    "m = slope\n",
    "m = Σ(x - x̅) * (y - y̅) / Σ(x -x̅)²\n",
    "\n",
    "b = intercept\n",
    "b = y̅ - m * x̅\n",
    "\n",
    "Object requires x and y\n",
    "\n",
    "x = explanatory variable\n",
    "y = dependent variable\n",
    "\n",
    "'''\n",
    "class Linearregression:\n",
    "    import numpy as np\n",
    "    \n",
    "    def __init__(self,x,y):\n",
    "        self.x = x\n",
    "        self.y = y\n",
    "        self.least_square(x,y)\n",
    "              \n",
    "    \n",
    "    def least_square(self, x, y):\n",
    "        \n",
    "        m = sum((self.x - np.mean(self.x)) * (self.y - np.mean(self.y))) / sum(((self.x - np.mean(self.x))**2)) # slope\n",
    "        \n",
    "        b = np.mean(self.y) - m * np.mean(self.x) # intercept\n",
    "        \n",
    "        sum_residuals = sum((self.y - np.mean(self.y)**2))\n",
    "        \n",
    "        self.y_intercept = b + m * self.x\n",
    "        \n",
    "        self.r2 = sum((self.y_intercept - np.mean(self.y))**2) / ((self.y - np.mean(self.y))**2)\n",
    "        \n",
    "        self.linear = ([self.x.min(),self.x.max()], [self.y_intercept.min(), self.y_intercept.max()])\n",
    "        \n",
    "        self.b = b\n",
    "        self.m = m     \n",
    "                       \n",
    "        return self.y_intercept, self.r2, self.linear, self.b, self.m\n",
    "          \n",
    "        \n",
    "    def predict(self,feature_x,true_y, mse = False):\n",
    "        self.feature_x = feature_x\n",
    "        self.true_y = true_y\n",
    "        \n",
    "        predicted_values = []\n",
    "        \n",
    "        for i in range(len(self.feature_x)):\n",
    "            pred_y = self.b + self.m * self.feature_x[i]\n",
    "            predicted_values.append(pred_y)\n",
    "        \n",
    "        self.pred_y =  pred_y\n",
    "        self.predicted_values = predicted_values\n",
    "        \n",
    "        def mean_square_error(self,true_y, pred_y):\n",
    "            \n",
    "            pred_values = np.array(pred_y)\n",
    "            true_values = np.array(true_y)\n",
    "            \n",
    "            mse = np.mean(np.square(true_values - pred_values))        \n",
    "        \n",
    "            self.mse = mse\n",
    "            return self.mse\n",
    "        \n",
    "        mean_square_error(self,true_y, pred_y)\n",
    "        \n",
    "        \n",
    "        if mse == True:\n",
    "            return self.predicted_values, self.pred_y, self.mse\n",
    "        else:\n",
    "            return self.predicted_values, self.pred_y"
   ]
  },
  {
   "cell_type": "markdown",
   "metadata": {},
   "source": [
    "# Compare function to scikit-learn linear regression function"
   ]
  },
  {
   "cell_type": "markdown",
   "metadata": {},
   "source": [
    "It is important to analyse how well the function performs, to ensure that first the function performs correctly and secondly accurately. In order to do so, the function will be used to perform analysis on a popular dataset Real Estate Price Prediction (https://www.kaggle.com/quantbruce/real-estate-price-prediction). The peformance will be compared to the mainstream library scikit-learn and its linear regression function. Mean square error will the main means of scoring for evaluation and comparison."
   ]
  },
  {
   "cell_type": "code",
   "execution_count": 2,
   "metadata": {},
   "outputs": [],
   "source": [
    "# load dataset\n",
    "import pandas as pd\n",
    "\n",
    "df = pd.read_csv('Real estate.csv')"
   ]
  },
  {
   "cell_type": "code",
   "execution_count": 76,
   "metadata": {},
   "outputs": [
    {
     "data": {
      "text/html": [
       "<div>\n",
       "<style scoped>\n",
       "    .dataframe tbody tr th:only-of-type {\n",
       "        vertical-align: middle;\n",
       "    }\n",
       "\n",
       "    .dataframe tbody tr th {\n",
       "        vertical-align: top;\n",
       "    }\n",
       "\n",
       "    .dataframe thead th {\n",
       "        text-align: right;\n",
       "    }\n",
       "</style>\n",
       "<table border=\"1\" class=\"dataframe\">\n",
       "  <thead>\n",
       "    <tr style=\"text-align: right;\">\n",
       "      <th></th>\n",
       "      <th>No</th>\n",
       "      <th>X1 transaction date</th>\n",
       "      <th>X2 house age</th>\n",
       "      <th>X3 distance to the nearest MRT station</th>\n",
       "      <th>X4 number of convenience stores</th>\n",
       "      <th>X5 latitude</th>\n",
       "      <th>X6 longitude</th>\n",
       "      <th>Y house price of unit area</th>\n",
       "    </tr>\n",
       "  </thead>\n",
       "  <tbody>\n",
       "    <tr>\n",
       "      <th>0</th>\n",
       "      <td>1</td>\n",
       "      <td>2012.917</td>\n",
       "      <td>32.0</td>\n",
       "      <td>84.87882</td>\n",
       "      <td>10</td>\n",
       "      <td>24.98298</td>\n",
       "      <td>121.54024</td>\n",
       "      <td>37.9</td>\n",
       "    </tr>\n",
       "    <tr>\n",
       "      <th>1</th>\n",
       "      <td>2</td>\n",
       "      <td>2012.917</td>\n",
       "      <td>19.5</td>\n",
       "      <td>306.59470</td>\n",
       "      <td>9</td>\n",
       "      <td>24.98034</td>\n",
       "      <td>121.53951</td>\n",
       "      <td>42.2</td>\n",
       "    </tr>\n",
       "    <tr>\n",
       "      <th>2</th>\n",
       "      <td>3</td>\n",
       "      <td>2013.583</td>\n",
       "      <td>13.3</td>\n",
       "      <td>561.98450</td>\n",
       "      <td>5</td>\n",
       "      <td>24.98746</td>\n",
       "      <td>121.54391</td>\n",
       "      <td>47.3</td>\n",
       "    </tr>\n",
       "    <tr>\n",
       "      <th>3</th>\n",
       "      <td>4</td>\n",
       "      <td>2013.500</td>\n",
       "      <td>13.3</td>\n",
       "      <td>561.98450</td>\n",
       "      <td>5</td>\n",
       "      <td>24.98746</td>\n",
       "      <td>121.54391</td>\n",
       "      <td>54.8</td>\n",
       "    </tr>\n",
       "    <tr>\n",
       "      <th>4</th>\n",
       "      <td>5</td>\n",
       "      <td>2012.833</td>\n",
       "      <td>5.0</td>\n",
       "      <td>390.56840</td>\n",
       "      <td>5</td>\n",
       "      <td>24.97937</td>\n",
       "      <td>121.54245</td>\n",
       "      <td>43.1</td>\n",
       "    </tr>\n",
       "  </tbody>\n",
       "</table>\n",
       "</div>"
      ],
      "text/plain": [
       "   No  X1 transaction date  X2 house age  \\\n",
       "0   1             2012.917          32.0   \n",
       "1   2             2012.917          19.5   \n",
       "2   3             2013.583          13.3   \n",
       "3   4             2013.500          13.3   \n",
       "4   5             2012.833           5.0   \n",
       "\n",
       "   X3 distance to the nearest MRT station  X4 number of convenience stores  \\\n",
       "0                                84.87882                               10   \n",
       "1                               306.59470                                9   \n",
       "2                               561.98450                                5   \n",
       "3                               561.98450                                5   \n",
       "4                               390.56840                                5   \n",
       "\n",
       "   X5 latitude  X6 longitude  Y house price of unit area  \n",
       "0     24.98298     121.54024                        37.9  \n",
       "1     24.98034     121.53951                        42.2  \n",
       "2     24.98746     121.54391                        47.3  \n",
       "3     24.98746     121.54391                        54.8  \n",
       "4     24.97937     121.54245                        43.1  "
      ]
     },
     "execution_count": 76,
     "metadata": {},
     "output_type": "execute_result"
    }
   ],
   "source": [
    "# Preview the dataframe\n",
    "df.head(5)"
   ]
  },
  {
   "cell_type": "code",
   "execution_count": 77,
   "metadata": {},
   "outputs": [
    {
     "data": {
      "text/plain": [
       "['No',\n",
       " 'X1 transaction date',\n",
       " 'X2 house age',\n",
       " 'X3 distance to the nearest MRT station',\n",
       " 'X4 number of convenience stores',\n",
       " 'X5 latitude',\n",
       " 'X6 longitude',\n",
       " 'Y house price of unit area']"
      ]
     },
     "execution_count": 77,
     "metadata": {},
     "output_type": "execute_result"
    }
   ],
   "source": [
    "list(df.columns)"
   ]
  },
  {
   "cell_type": "code",
   "execution_count": 78,
   "metadata": {},
   "outputs": [
    {
     "data": {
      "text/html": [
       "<div>\n",
       "<style scoped>\n",
       "    .dataframe tbody tr th:only-of-type {\n",
       "        vertical-align: middle;\n",
       "    }\n",
       "\n",
       "    .dataframe tbody tr th {\n",
       "        vertical-align: top;\n",
       "    }\n",
       "\n",
       "    .dataframe thead th {\n",
       "        text-align: right;\n",
       "    }\n",
       "</style>\n",
       "<table border=\"1\" class=\"dataframe\">\n",
       "  <thead>\n",
       "    <tr style=\"text-align: right;\">\n",
       "      <th></th>\n",
       "      <th>No</th>\n",
       "      <th>X1 transaction date</th>\n",
       "      <th>X2 house age</th>\n",
       "      <th>X3 distance to the nearest MRT station</th>\n",
       "      <th>X4 number of convenience stores</th>\n",
       "      <th>X5 latitude</th>\n",
       "      <th>X6 longitude</th>\n",
       "      <th>Y house price of unit area</th>\n",
       "    </tr>\n",
       "  </thead>\n",
       "  <tbody>\n",
       "    <tr>\n",
       "      <th>count</th>\n",
       "      <td>414.000000</td>\n",
       "      <td>414.000000</td>\n",
       "      <td>414.000000</td>\n",
       "      <td>414.000000</td>\n",
       "      <td>414.000000</td>\n",
       "      <td>414.000000</td>\n",
       "      <td>414.000000</td>\n",
       "      <td>414.000000</td>\n",
       "    </tr>\n",
       "    <tr>\n",
       "      <th>mean</th>\n",
       "      <td>207.500000</td>\n",
       "      <td>2013.148971</td>\n",
       "      <td>17.712560</td>\n",
       "      <td>1083.885689</td>\n",
       "      <td>4.094203</td>\n",
       "      <td>24.969030</td>\n",
       "      <td>121.533361</td>\n",
       "      <td>37.980193</td>\n",
       "    </tr>\n",
       "    <tr>\n",
       "      <th>std</th>\n",
       "      <td>119.655756</td>\n",
       "      <td>0.281967</td>\n",
       "      <td>11.392485</td>\n",
       "      <td>1262.109595</td>\n",
       "      <td>2.945562</td>\n",
       "      <td>0.012410</td>\n",
       "      <td>0.015347</td>\n",
       "      <td>13.606488</td>\n",
       "    </tr>\n",
       "    <tr>\n",
       "      <th>min</th>\n",
       "      <td>1.000000</td>\n",
       "      <td>2012.667000</td>\n",
       "      <td>0.000000</td>\n",
       "      <td>23.382840</td>\n",
       "      <td>0.000000</td>\n",
       "      <td>24.932070</td>\n",
       "      <td>121.473530</td>\n",
       "      <td>7.600000</td>\n",
       "    </tr>\n",
       "    <tr>\n",
       "      <th>25%</th>\n",
       "      <td>104.250000</td>\n",
       "      <td>2012.917000</td>\n",
       "      <td>9.025000</td>\n",
       "      <td>289.324800</td>\n",
       "      <td>1.000000</td>\n",
       "      <td>24.963000</td>\n",
       "      <td>121.528085</td>\n",
       "      <td>27.700000</td>\n",
       "    </tr>\n",
       "    <tr>\n",
       "      <th>50%</th>\n",
       "      <td>207.500000</td>\n",
       "      <td>2013.167000</td>\n",
       "      <td>16.100000</td>\n",
       "      <td>492.231300</td>\n",
       "      <td>4.000000</td>\n",
       "      <td>24.971100</td>\n",
       "      <td>121.538630</td>\n",
       "      <td>38.450000</td>\n",
       "    </tr>\n",
       "    <tr>\n",
       "      <th>75%</th>\n",
       "      <td>310.750000</td>\n",
       "      <td>2013.417000</td>\n",
       "      <td>28.150000</td>\n",
       "      <td>1454.279000</td>\n",
       "      <td>6.000000</td>\n",
       "      <td>24.977455</td>\n",
       "      <td>121.543305</td>\n",
       "      <td>46.600000</td>\n",
       "    </tr>\n",
       "    <tr>\n",
       "      <th>max</th>\n",
       "      <td>414.000000</td>\n",
       "      <td>2013.583000</td>\n",
       "      <td>43.800000</td>\n",
       "      <td>6488.021000</td>\n",
       "      <td>10.000000</td>\n",
       "      <td>25.014590</td>\n",
       "      <td>121.566270</td>\n",
       "      <td>117.500000</td>\n",
       "    </tr>\n",
       "  </tbody>\n",
       "</table>\n",
       "</div>"
      ],
      "text/plain": [
       "               No  X1 transaction date  X2 house age  \\\n",
       "count  414.000000           414.000000    414.000000   \n",
       "mean   207.500000          2013.148971     17.712560   \n",
       "std    119.655756             0.281967     11.392485   \n",
       "min      1.000000          2012.667000      0.000000   \n",
       "25%    104.250000          2012.917000      9.025000   \n",
       "50%    207.500000          2013.167000     16.100000   \n",
       "75%    310.750000          2013.417000     28.150000   \n",
       "max    414.000000          2013.583000     43.800000   \n",
       "\n",
       "       X3 distance to the nearest MRT station  \\\n",
       "count                              414.000000   \n",
       "mean                              1083.885689   \n",
       "std                               1262.109595   \n",
       "min                                 23.382840   \n",
       "25%                                289.324800   \n",
       "50%                                492.231300   \n",
       "75%                               1454.279000   \n",
       "max                               6488.021000   \n",
       "\n",
       "       X4 number of convenience stores  X5 latitude  X6 longitude  \\\n",
       "count                       414.000000   414.000000    414.000000   \n",
       "mean                          4.094203    24.969030    121.533361   \n",
       "std                           2.945562     0.012410      0.015347   \n",
       "min                           0.000000    24.932070    121.473530   \n",
       "25%                           1.000000    24.963000    121.528085   \n",
       "50%                           4.000000    24.971100    121.538630   \n",
       "75%                           6.000000    24.977455    121.543305   \n",
       "max                          10.000000    25.014590    121.566270   \n",
       "\n",
       "       Y house price of unit area  \n",
       "count                  414.000000  \n",
       "mean                    37.980193  \n",
       "std                     13.606488  \n",
       "min                      7.600000  \n",
       "25%                     27.700000  \n",
       "50%                     38.450000  \n",
       "75%                     46.600000  \n",
       "max                    117.500000  "
      ]
     },
     "execution_count": 78,
     "metadata": {},
     "output_type": "execute_result"
    }
   ],
   "source": [
    "df.describe()"
   ]
  },
  {
   "cell_type": "markdown",
   "metadata": {},
   "source": [
    "Data looks clean, with interesting parameters for comparison. For the analysis 'number of convenience stores' will be compared to 'house price of unit area'. How will the number of convenient stores affect house price?"
   ]
  },
  {
   "cell_type": "code",
   "execution_count": 3,
   "metadata": {},
   "outputs": [
    {
     "data": {
      "text/plain": [
       "0    10\n",
       "1     9\n",
       "2     5\n",
       "3     5\n",
       "4     5\n",
       "Name: X4 number of convenience stores, dtype: int64"
      ]
     },
     "execution_count": 3,
     "metadata": {},
     "output_type": "execute_result"
    }
   ],
   "source": [
    "x = df['X4 number of convenience stores']\n",
    "x.head()"
   ]
  },
  {
   "cell_type": "code",
   "execution_count": 4,
   "metadata": {},
   "outputs": [
    {
     "data": {
      "text/plain": [
       "0    37.9\n",
       "1    42.2\n",
       "2    47.3\n",
       "3    54.8\n",
       "4    43.1\n",
       "Name: Y house price of unit area, dtype: float64"
      ]
     },
     "execution_count": 4,
     "metadata": {},
     "output_type": "execute_result"
    }
   ],
   "source": [
    "y = df['Y house price of unit area']\n",
    "y.head()"
   ]
  },
  {
   "cell_type": "markdown",
   "metadata": {},
   "source": [
    "### Split training and testing (80:20 split)"
   ]
  },
  {
   "cell_type": "code",
   "execution_count": 5,
   "metadata": {},
   "outputs": [],
   "source": [
    "# Split data into test and training - 80:20 split\n",
    "# Find 20% of the rows to split into testing\n",
    "#print(414 *.20)\n",
    "x_train = x[:-82]\n",
    "x_test = x[-82:]\n",
    "# Split targets into test and training\n",
    "y_train = y[:-82]\n",
    "y_test = y[-82:]"
   ]
  },
  {
   "cell_type": "markdown",
   "metadata": {},
   "source": [
    "### Create model using built linear regression function"
   ]
  },
  {
   "cell_type": "code",
   "execution_count": 130,
   "metadata": {},
   "outputs": [],
   "source": [
    "# Build model with my linear regression model\n",
    "model1 = Linearregression(x_train,y_train)"
   ]
  },
  {
   "cell_type": "code",
   "execution_count": 117,
   "metadata": {},
   "outputs": [
    {
     "data": {
      "image/png": "[encoded data removed]",
      "text/plain": [
       "<Figure size 432x288 with 1 Axes>"
      ]
     },
     "metadata": {
      "needs_background": "light"
     },
     "output_type": "display_data"
    }
   ],
   "source": [
    "# Plot a regression line using the training data\n",
    "import matplotlib.pyplot as plt\n",
    "fig = plt.figure()\n",
    "\n",
    "ax = fig.add_axes([0, 0, 1, 1])\n",
    "plt.scatter(x_train,y_train)\n",
    "plt.plot(x_train, model1.y_intercept)\n",
    "\n",
    "ax.set_xlabel('number of convenience stores')\n",
    "ax.set_ylabel('house price of unit area')\n",
    "\n",
    "ax.text(1,1,r'Y = {:.2f} x + {:.2f}'.format(model1.m, model1.b), fontsize=12,horizontalalignment='left', verticalalignment='bottom', transform=ax.transAxes)\n",
    "\n",
    "plt.show()"
   ]
  },
  {
   "cell_type": "code",
   "execution_count": 140,
   "metadata": {
    "scrolled": true
   },
   "outputs": [
    {
     "data": {
      "text/plain": [
       "([32.19777650773784,\n",
       "  40.433627606553,\n",
       "  40.433627606553,\n",
       "  43.17891130615806,\n",
       "  32.19777650773784,\n",
       "  40.433627606553,\n",
       "  51.41476240497321,\n",
       "  40.433627606553,\n",
       "  26.70720910852774,\n",
       "  32.19777650773784,\n",
       "  51.41476240497321,\n",
       "  48.66947870536816,\n",
       "  26.70720910852774,\n",
       "  26.70720910852774,\n",
       "  32.19777650773784,\n",
       "  29.452492808132792,\n",
       "  43.17891130615806,\n",
       "  40.433627606553,\n",
       "  40.433627606553,\n",
       "  34.943060207342896,\n",
       "  34.943060207342896,\n",
       "  34.943060207342896,\n",
       "  29.452492808132792,\n",
       "  40.433627606553,\n",
       "  29.452492808132792,\n",
       "  51.41476240497321,\n",
       "  43.17891130615806,\n",
       "  26.70720910852774,\n",
       "  54.16004610457826,\n",
       "  48.66947870536816,\n",
       "  37.68834390694795,\n",
       "  54.16004610457826,\n",
       "  45.9241950057631,\n",
       "  37.68834390694795,\n",
       "  29.452492808132792,\n",
       "  32.19777650773784,\n",
       "  29.452492808132792,\n",
       "  34.943060207342896,\n",
       "  40.433627606553,\n",
       "  40.433627606553,\n",
       "  45.9241950057631,\n",
       "  29.452492808132792,\n",
       "  40.433627606553,\n",
       "  26.70720910852774,\n",
       "  32.19777650773784,\n",
       "  48.66947870536816,\n",
       "  48.66947870536816,\n",
       "  43.17891130615806,\n",
       "  40.433627606553,\n",
       "  51.41476240497321,\n",
       "  26.70720910852774,\n",
       "  37.68834390694795,\n",
       "  26.70720910852774,\n",
       "  54.16004610457826,\n",
       "  26.70720910852774,\n",
       "  34.943060207342896,\n",
       "  37.68834390694795,\n",
       "  48.66947870536816,\n",
       "  51.41476240497321,\n",
       "  29.452492808132792,\n",
       "  43.17891130615806,\n",
       "  37.68834390694795,\n",
       "  29.452492808132792,\n",
       "  37.68834390694795,\n",
       "  29.452492808132792,\n",
       "  37.68834390694795,\n",
       "  32.19777650773784,\n",
       "  29.452492808132792,\n",
       "  40.433627606553,\n",
       "  34.943060207342896,\n",
       "  29.452492808132792,\n",
       "  51.41476240497321,\n",
       "  40.433627606553,\n",
       "  43.17891130615806,\n",
       "  45.9241950057631,\n",
       "  26.70720910852774,\n",
       "  34.943060207342896,\n",
       "  26.70720910852774,\n",
       "  51.41476240497321,\n",
       "  45.9241950057631,\n",
       "  40.433627606553,\n",
       "  51.41476240497321],\n",
       " 51.41476240497321,\n",
       " 312.04274177501196)"
      ]
     },
     "execution_count": 140,
     "metadata": {},
     "output_type": "execute_result"
    }
   ],
   "source": [
    "# Use model to predict values based on the test dataset\n",
    "y_pred = np.array(y_test)\n",
    "model1.predict(x_array_test,y_pred,True)"
   ]
  },
  {
   "cell_type": "code",
   "execution_count": 145,
   "metadata": {},
   "outputs": [
    {
     "data": {
      "image/png": "[encoded data removed]",
      "text/plain": [
       "<Figure size 432x288 with 1 Axes>"
      ]
     },
     "metadata": {
      "needs_background": "light"
     },
     "output_type": "display_data"
    }
   ],
   "source": [
    "# Plot predicted values\n",
    "fig = plt.figure()\n",
    "\n",
    "ax = fig.add_axes([0, 0, 1, 1])\n",
    "plt.scatter(x_test,y_test)\n",
    "plt.plot(x_test, model1.predicted_values)\n",
    "\n",
    "plt.title('Model1 - Predicted line')\n",
    "ax.set_xlabel('number of convenience stores')\n",
    "ax.set_ylabel('house price of unit area')\n",
    "\n",
    "plt.show()"
   ]
  },
  {
   "cell_type": "code",
   "execution_count": 146,
   "metadata": {},
   "outputs": [
    {
     "name": "stdout",
     "output_type": "stream",
     "text": [
      "312.04274177501196\n"
     ]
    }
   ],
   "source": [
    "# Print mean square error\n",
    "print(model1.mse)"
   ]
  },
  {
   "cell_type": "markdown",
   "metadata": {},
   "source": [
    "### Scikit-learn linear regression"
   ]
  },
  {
   "cell_type": "code",
   "execution_count": 8,
   "metadata": {},
   "outputs": [],
   "source": [
    "# Now compare model to scikit-learn model\n",
    "# Import libraries\n",
    "# Import linear regression model from scikit-learn library\n",
    "import numpy as np\n",
    "from sklearn.linear_model import LinearRegression\n",
    "from sklearn.metrics import mean_squared_error"
   ]
  },
  {
   "cell_type": "code",
   "execution_count": 9,
   "metadata": {},
   "outputs": [],
   "source": [
    "# Shape data in preparation for training\n",
    "# Train scikit-learn model\n",
    "x_array = np.array(x_train)\n",
    "x_reshape = x_array.reshape(-1, 1)\n",
    "model_sci = LinearRegression().fit(x_reshape, y_train)"
   ]
  },
  {
   "cell_type": "code",
   "execution_count": 10,
   "metadata": {},
   "outputs": [],
   "source": [
    "# Use model to predict using the test data \n",
    "x_array_test = np.array(x_test)\n",
    "x_reshape_test = x_array_test.reshape(-1,1) \n",
    "sci_y_predict = model_sci.predict(x_reshape_test)"
   ]
  },
  {
   "cell_type": "code",
   "execution_count": 13,
   "metadata": {},
   "outputs": [
    {
     "data": {
      "image/png": "[encoded data removed]",
      "text/plain": [
       "<Figure size 432x288 with 1 Axes>"
      ]
     },
     "metadata": {
      "needs_background": "light"
     },
     "output_type": "display_data"
    }
   ],
   "source": [
    "# Plot regression line against training data\n",
    "fig = plt.figure()\n",
    "\n",
    "ax = fig.add_axes([0, 0, 1, 1])\n",
    "plt.scatter(x_train,y_train)\n",
    "plt.plot(x_reshape_test, sci_y_predict)\n",
    "\n",
    "plt.title('Scikit-learn Model - Predicted line on training data')\n",
    "ax.set_xlabel('number of convenience stores')\n",
    "ax.set_ylabel('house price of unit area')\n",
    "plt.show()"
   ]
  },
  {
   "cell_type": "code",
   "execution_count": 15,
   "metadata": {},
   "outputs": [
    {
     "data": {
      "image/png": "[encoded data removed]",
      "text/plain": [
       "<Figure size 432x288 with 1 Axes>"
      ]
     },
     "metadata": {
      "needs_background": "light"
     },
     "output_type": "display_data"
    }
   ],
   "source": [
    "# Regression line with test data\n",
    "fig = plt.figure()\n",
    "\n",
    "ax = fig.add_axes([0, 0, 1, 1])\n",
    "plt.scatter(x_test,y_test)\n",
    "plt.plot(x_reshape_test, sci_y_predict)\n",
    "\n",
    "plt.title('Scikit-learn Model - Predicted line on test data')\n",
    "ax.set_xlabel('number of convenience stores')\n",
    "ax.set_ylabel('house price of unit area')\n",
    "plt.show()"
   ]
  },
  {
   "cell_type": "code",
   "execution_count": 168,
   "metadata": {},
   "outputs": [],
   "source": [
    "# Print mean square error for the scikit-learn model\n",
    "model_sci = mean_squared_error(y_test,sci_y_predict)\n",
    "#print(model_sci)"
   ]
  },
  {
   "cell_type": "code",
   "execution_count": 173,
   "metadata": {},
   "outputs": [
    {
     "name": "stdout",
     "output_type": "stream",
     "text": [
      "Custom LR model:  312.04274177501196\n",
      "Scikit-learn LR model:  104.70847201151592\n"
     ]
    }
   ],
   "source": [
    "# Compare the models using mean square error\n",
    "# Higher the number, higher the error\n",
    "print('Custom LR model: ', model1.mse)\n",
    "print('Scikit-learn LR model: ', model_sci)"
   ]
  },
  {
   "cell_type": "markdown",
   "metadata": {},
   "source": [
    "The scikit-learn model out performs my linear regression model by some margin according to the mean square error.  Both models use a simply least squares method for implementation, however the scikit-learn model definately shows a large degree of optimisation, as expected. Implementing gaussian distributions could be used to aid optimisation. The predicted lines when plotted look similar, showing some degree of promise in the model built. There is plenty of room to improve the model, adding variances in Ridge and Lasso, to start, which could be better at predictions."
   ]
  }
 ],
 "metadata": {
  "kernelspec": {
   "display_name": "Python 3",
   "language": "python",
   "name": "python3"
  },
  "language_info": {
   "codemirror_mode": {
    "name": "ipython",
    "version": 3
   },
   "file_extension": ".py",
   "mimetype": "text/x-python",
   "name": "python",
   "nbconvert_exporter": "python",
   "pygments_lexer": "ipython3",
   "version": "3.7.3"
  }
 },
 "nbformat": 4,
 "nbformat_minor": 2
}
